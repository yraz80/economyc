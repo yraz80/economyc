{
 "cells": [
  {
   "cell_type": "markdown",
   "metadata": {},
   "source": [
    "<style>\n",
    "#notebook-container {\n",
    "    padding: 15px;\n",
    "    background-color: #fff;\n",
    "    min-height: 0;\n",
    "    -webkit-box-shadow: 0px 0px 0px 0px rgba(87, 87, 87, 0.2);\n",
    "    box-shadow: 0px 0px 0px 0px rgba(87, 87, 87, 0.2);\n",
    "</style>"
   ]
  },
  {
   "cell_type": "markdown",
   "metadata": {},
   "source": [
    "vers. 1.0.0."
   ]
  },
  {
   "cell_type": "markdown",
   "metadata": {},
   "source": [
    "# Экономика России"
   ]
  },
  {
   "cell_type": "markdown",
   "metadata": {},
   "source": [
    "Системный анализ:\n",
    "- <a href=\"../analysis_company.html\">Выручка крупнейших компаний</a>\n",
    "- <a href=\"../analysis_industry.html\">Выручка крупнейших компаний. Отраслевой срез</a>\n",
    "- <a href=\"../personal_company.html\">Количество работников в крупнейших компаниях</a>\n",
    "- <a href=\"../personal_industry.html\">Количество работников в крупнейших компаниях. Отраслевой срез</a>\n",
    "- Ключевые иностранные компании в России\n",
    "- Количество рабочих в компаниях и отраслях России"
   ]
  },
  {
   "cell_type": "markdown",
   "metadata": {},
   "source": [
    "Отраслевой анализ:\n",
    "\n",
    "- Нефтегазовый сектор\n",
    "- Металлы и горная добыча\n",
    "- Машиностроение и ОПК\n",
    "- Банки и финансы\n",
    "- Торговля и дистрибуция\n",
    "- Транспорт\n",
    "- Телекоммуникации\n",
    "- Автомобили\n",
    "- Химия и нефтехимия\n",
    "- Энергетика"
   ]
  },
  {
   "cell_type": "markdown",
   "metadata": {},
   "source": [
    "Анализ занятости:\n",
    "- Анализ занятости по данным Росстата\n",
    "- Анализ занятости в отраслях по данным Росстата\n",
    "- Анализ безработицы"
   ]
  },
  {
   "cell_type": "markdown",
   "metadata": {},
   "source": [
    "Анализ внешнеэкономической деятельности:\n",
    "- Анализ экспорта России\n",
    "- Анализ импорта России"
   ]
  },
  {
   "cell_type": "markdown",
   "metadata": {},
   "source": [
    "Данные:\n",
    "\n",
    "- <a href=\"../company_list_m.html\">Список компаний. Выручка</a>\n",
    "- <a href=\"../company_list_p.html\">Список компаний. Работники</a>\n",
    "- Список компаний. Прибыль"
   ]
  },
  {
   "cell_type": "markdown",
   "metadata": {},
   "source": [
    "<br>\n",
    "<br>\n",
    "<hr>\n",
    "2019"
   ]
  }
 ],
 "metadata": {
  "kernelspec": {
   "display_name": "Python 3",
   "language": "python",
   "name": "python3"
  },
  "language_info": {
   "codemirror_mode": {
    "name": "ipython",
    "version": 3
   },
   "file_extension": ".py",
   "mimetype": "text/x-python",
   "name": "python",
   "nbconvert_exporter": "python",
   "pygments_lexer": "ipython3",
   "version": "3.7.0"
  }
 },
 "nbformat": 4,
 "nbformat_minor": 2
}
